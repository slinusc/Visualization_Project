{
 "cells": [
  {
   "cell_type": "code",
   "execution_count": null,
   "id": "26634e14",
   "metadata": {},
   "outputs": [],
   "source": [
    "from importlib import reload\n",
    "import pandas as pd\n",
    "import time\n",
    "import text_preprocessing as wpp\n",
    "import country_extractor as ce\n",
    "import sentiment_analyser as sa\n",
    "import topic_categorizer as tc\n",
    "import entity_subject_extractor as ese"
   ]
  },
  {
   "cell_type": "markdown",
   "id": "221d5627",
   "metadata": {},
   "source": [
    "Reading raw data"
   ]
  },
  {
   "cell_type": "code",
   "execution_count": null,
   "id": "2ed956b4",
   "metadata": {},
   "outputs": [],
   "source": [
    "data = pd.read_csv('../data/new_data_vdss.tsv.xz', sep='\\t', compression='xz')"
   ]
  },
  {
   "cell_type": "markdown",
   "id": "f86d44f8",
   "metadata": {},
   "source": [
    "Delete redundant columns"
   ]
  },
  {
   "cell_type": "code",
   "execution_count": null,
   "id": "d26c2be9",
   "metadata": {},
   "outputs": [],
   "source": [
    "data['date'] = data['pubtime'].str.extract(r'(\\d{4}-\\d{2}-\\d{2})')\n",
    "data['date'] = pd.to_datetime(data['date'])\n",
    "del data['pubtime']\n",
    "del data['medium_code']\n",
    "del data['regional']\n",
    "del data['doctype']\n",
    "del data['language']\n",
    "del data['char_count']\n",
    "del data['dateline']\n",
    "del data['subhead']\n",
    "del data['content_id']\n",
    "del data['id']\n",
    "del data['rubric']\n",
    "del data['doctype_description']"
   ]
  },
  {
   "cell_type": "markdown",
   "id": "5e28cfe1",
   "metadata": {},
   "source": [
    "Text preprocessing for article content"
   ]
  },
  {
   "cell_type": "code",
   "execution_count": null,
   "id": "20541e6e",
   "metadata": {},
   "outputs": [],
   "source": [
    "preprocessor = wpp.TextPreprocessing()\n",
    "\n",
    "start_time = time.time()\n",
    "data['content_processed'] = data['content'].apply(lambda x: preprocessor.preprocess_text(x) if isinstance(x, str) else [])\n",
    "end_time = time.time()\n",
    "\n",
    "elapsed_time = end_time - start_time\n",
    "\n",
    "del data['content']\n",
    "\n",
    "print(\"Elapsed Time: {:.2f} seconds\".format(elapsed_time))"
   ]
  },
  {
   "cell_type": "markdown",
   "id": "e0ceee79",
   "metadata": {},
   "source": [
    "Country extraction with runtime estimation"
   ]
  },
  {
   "cell_type": "code",
   "execution_count": null,
   "id": "18d30ec3",
   "metadata": {},
   "outputs": [],
   "source": [
    "extractor = ce.CountryExtractor()\n",
    "%timeit extractor.get_country(data['content'][0])"
   ]
  },
  {
   "cell_type": "markdown",
   "id": "3b063caf",
   "metadata": {},
   "source": [
    "68.1 µs ± 9.06 µs per loop (mean ± std. dev. of 7 runs, 10,000 loops each)"
   ]
  },
  {
   "cell_type": "code",
   "execution_count": null,
   "id": "bc577eed",
   "metadata": {},
   "outputs": [],
   "source": [
    "extractor = ce.CountryExtractor()\n",
    "data['countries'] = data['content_processed'].apply(lambda x: extractor.get_country(x) if isinstance(x[0], str) else [])"
   ]
  },
  {
   "cell_type": "markdown",
   "id": "36b1a04d",
   "metadata": {},
   "source": [
    "Sentiment analysis with runtime estimation"
   ]
  },
  {
   "cell_type": "code",
   "execution_count": null,
   "id": "e207c2e8",
   "metadata": {},
   "outputs": [],
   "source": [
    "reload(sa)\n",
    "sentiment_analyser = sa.SentimentAnalyser()\n",
    "%timeit sentiment_analyser.get_topic_sentiments_polarity(data['content_processed'][0])"
   ]
  },
  {
   "cell_type": "markdown",
   "id": "d9f3a0f8",
   "metadata": {},
   "source": [
    "12.8 ms ± 1.17 ms per loop (mean ± std. dev. of 7 runs, 100 loops each)"
   ]
  },
  {
   "cell_type": "code",
   "execution_count": null,
   "id": "f505708c",
   "metadata": {},
   "outputs": [],
   "source": [
    "sentiment_analyser = sa.SentimentAnalyser()\n",
    "\n",
    "start_time = time.time()\n",
    "data['sentiment'] = data['content_processed'].apply(lambda x: sentiment_analyser.get_topic_sentiments_polarity(x))\n",
    "end_time = time.time()\n",
    "\n",
    "elapsed_time = end_time - start_time\n",
    "\n",
    "print(\"Elapsed Time: {:.2f} seconds\".format(elapsed_time))\n",
    "\n",
    "data.to_csv('../data/processed_data.tsv.xz', sep='\\t', index=False, compression='xz')"
   ]
  },
  {
   "cell_type": "markdown",
   "id": "e38d04c8",
   "metadata": {},
   "source": [
    "Elapsed Time: 7932.10 seconds"
   ]
  },
  {
   "cell_type": "markdown",
   "id": "f9a46ddb",
   "metadata": {},
   "source": [
    "Subjectivity analysis with runtime estimation"
   ]
  },
  {
   "cell_type": "code",
   "execution_count": null,
   "id": "c79b6ab9",
   "metadata": {},
   "outputs": [],
   "source": [
    "reload(sa)\n",
    "sentiment_analyser = sa.SentimentAnalyser()\n",
    "%timeit sentiment_analyser.get_topic_subjectivity(data['content_processed'][0])"
   ]
  },
  {
   "cell_type": "markdown",
   "id": "11c96a78",
   "metadata": {},
   "source": [
    "16.4 ms ± 1.66 ms per loop (mean ± std. dev. of 7 runs, 100 loops each)"
   ]
  },
  {
   "cell_type": "code",
   "execution_count": null,
   "id": "88f4d548",
   "metadata": {},
   "outputs": [],
   "source": [
    "sentiment_analyser = sa.SentimentAnalyser()\n",
    "\n",
    "start_time = time.time()\n",
    "data['subjectivity'] = data['content_processed'].apply(lambda x: sentiment_analyser.get_topic_subjectivity(x))\n",
    "end_time = time.time()\n",
    "\n",
    "elapsed_time = end_time - start_time\n",
    "\n",
    "print(\"Elapsed Time: {:.2f} seconds\".format(elapsed_time))\n",
    "\n",
    "data.to_csv('../data/processed_data2.tsv.xz', sep='\\t', index=False, compression='xz')"
   ]
  },
  {
   "cell_type": "markdown",
   "id": "b72e7374",
   "metadata": {},
   "source": [
    "Elapsed Time: 9175.09 seconds"
   ]
  },
  {
   "cell_type": "markdown",
   "id": "04d73475",
   "metadata": {},
   "source": [
    "Categorize content with runtime estimation"
   ]
  },
  {
   "cell_type": "code",
   "execution_count": null,
   "id": "5997179f",
   "metadata": {},
   "outputs": [],
   "source": [
    "reload(tc)\n",
    "categorizer = tc.TopicCategorizer()\n",
    "%timeit data['content_processed'][:1].apply(lambda x: categorizer.categorize(x))"
   ]
  },
  {
   "cell_type": "markdown",
   "id": "3d183b34",
   "metadata": {},
   "source": [
    "14 ms ± 899 µs per loop (mean ± std. dev. of 7 runs, 100 loops each)"
   ]
  },
  {
   "cell_type": "code",
   "execution_count": null,
   "id": "fad88fe5",
   "metadata": {},
   "outputs": [],
   "source": [
    "categorizer = tc.TopicCategorizer()\n",
    "\n",
    "start_time = time.time()\n",
    "data['article_category'] = data['content_processed'].apply(lambda x: categorizer.categorize(x))\n",
    "end_time = time.time()\n",
    "\n",
    "elapsed_time = end_time - start_time\n",
    "\n",
    "print(\"Elapsed Time: {:.2f} seconds\".format(elapsed_time))\n",
    "\n",
    "data.to_csv('../data/processed_data5.tsv.xz', sep='\\t', index=False, compression='xz')"
   ]
  },
  {
   "cell_type": "markdown",
   "id": "43804d90",
   "metadata": {},
   "source": [
    "Elapsed Time: 6759.97 seconds"
   ]
  },
  {
   "cell_type": "markdown",
   "id": "5f62ff0a",
   "metadata": {},
   "source": [
    "Extracting entities runtime estimation"
   ]
  },
  {
   "cell_type": "code",
   "execution_count": null,
   "id": "75a1285f",
   "metadata": {},
   "outputs": [],
   "source": [
    "reload(ese)\n",
    "entity_extractor = ese.EntityAndSubjectExtractor()\n",
    "%timeit processed_data['head'][:1].apply(lambda x: entity_extractor.extract_entities(x))"
   ]
  },
  {
   "cell_type": "markdown",
   "id": "b4473fcc",
   "metadata": {},
   "source": [
    "4.85 ms ± 291 µs per loop (mean ± std. dev. of 7 runs, 100 loops each)"
   ]
  },
  {
   "cell_type": "code",
   "execution_count": null,
   "id": "47227a38",
   "metadata": {},
   "outputs": [],
   "source": [
    "entity_extractor = ese.EntityAndSubjectExtractor()\n",
    "\n",
    "start_time = time.time()\n",
    "data['entities_header'] = data['head'].apply(lambda x: entity_extractor.extract_entities(x))\n",
    "end_time = time.time()\n",
    "\n",
    "elapsed_time = end_time - start_time\n",
    "\n",
    "print(\"Elapsed Time: {:.2f} seconds\".format(elapsed_time))\n",
    "\n",
    "data.to_csv('../data/processed_data_final.tsv.xz', sep='\\t', index=False, compression='xz')"
   ]
  },
  {
   "cell_type": "markdown",
   "id": "709f5e03",
   "metadata": {},
   "source": [
    "Elapsed Time: 830.65 seconds"
   ]
  },
  {
   "cell_type": "code",
   "execution_count": null,
   "id": "f5b3a1f2",
   "metadata": {},
   "outputs": [],
   "source": [
    "translate_countries = ce.CountryExtractor()\n",
    "data['countries_en'] = data['countries'].apply(lambda x: translate_countries.country_translation(x))"
   ]
  },
  {
   "cell_type": "code",
   "execution_count": null,
   "id": "a3f636f9",
   "metadata": {},
   "outputs": [],
   "source": [
    "data.to_csv('../data/processed_data_final.tsv.xz', sep='\\t', index=False, compression='xz')"
   ]
  },
  {
   "cell_type": "markdown",
   "id": "7e35315a",
   "metadata": {},
   "source": [
    "Import processed data, using eval to convert content_processed and countries to list"
   ]
  },
  {
   "cell_type": "code",
   "execution_count": null,
   "id": "f7ef7469",
   "metadata": {},
   "outputs": [],
   "source": [
    "processed_data = pd.read_csv('../data/processed_data_final.tsv.xz', sep='\\t', compression='xz')\n",
    "processed_data['content_processed'] = processed_data['content_processed'].apply(eval)\n",
    "#proc_data['countries'] = proc_data['countries'].apply(eval)"
   ]
  },
  {
   "cell_type": "markdown",
   "id": "dd1974a4",
   "metadata": {},
   "source": []
  },
  {
   "cell_type": "code",
   "execution_count": null,
   "id": "48a41234",
   "metadata": {},
   "outputs": [],
   "source": [
    "# Aufbereitung der Liste mit Persönlichkeiten\n",
    "\n",
    "import re\n",
    "\n",
    "names = []\n",
    "with open(\"../data/persoenlichkeiten_raw.txt\", 'r', encoding='UTF-8') as file:\n",
    "    for line in file:\n",
    "        names.append(re.sub(r'^\\d+\\.\\s', '', line.strip()))\n",
    "\n",
    "names = set(names)\n",
    "names_df = pd.DataFrame(names)\n",
    "names_df.to_csv(\"../data/persoenlichkeiten.csv\")"
   ]
  },
  {
   "cell_type": "code",
   "execution_count": null,
   "id": "3e7b38bb",
   "metadata": {},
   "outputs": [],
   "source": [
    "reload(ese)\n",
    "people_extractor = ese.EntityAndSubjectExtractor()\n",
    "start_time = time.time()\n",
    "processed_data['people'] = processed_data['content_processed'].apply(people_extractor.extract_people)\n",
    "end_time = time.time()\n",
    "elapsed_time = end_time - start_time\n",
    "print(\"Elapsed Time: {:.2f} seconds\".format(elapsed_time))\n",
    "\n",
    "processed_data.to_csv('../data/processed_data_final_add_people.tsv.xz', sep='\\t', index=False, compression='xz')"
   ]
  },
  {
   "cell_type": "code",
   "execution_count": null,
   "id": "7af92235",
   "metadata": {},
   "outputs": [],
   "source": [
    "del processed_data['content_processed']\n",
    "processed_data.to_csv('../data/without_content.tsv.xz', sep='\\t', index=False, compression='xz')"
   ]
  },
  {
   "cell_type": "code",
   "execution_count": 32,
   "id": "90e946c8",
   "metadata": {
    "ExecuteTime": {
     "end_time": "2023-06-03T21:47:22.185864200Z",
     "start_time": "2023-06-03T21:47:19.779434500Z"
    }
   },
   "outputs": [],
   "source": [
    "df = pd.read_csv('../data/without_content.tsv.xz', sep='\\t', compression='xz')\n",
    "df['countries'] = df['countries'].apply(eval)"
   ]
  },
  {
   "cell_type": "code",
   "execution_count": null,
   "id": "c5b629d9",
   "metadata": {},
   "outputs": [],
   "source": [
    "df['entities_header'] = df['entities_header'].apply(eval)"
   ]
  },
  {
   "cell_type": "code",
   "execution_count": 107,
   "outputs": [],
   "source": [
    "import itertools\n",
    "import pandas as pd\n",
    "import holoviews as hv\n",
    "from holoviews import opts, dim, Dataset\n",
    "\n",
    "class ChordCharts:\n",
    "\n",
    "    def __init__(self, data, specific_countries=None):\n",
    "        self.data = data.tolist()\n",
    "        self.edges_list = []\n",
    "        if specific_countries != 'Alle':\n",
    "            self.specific_countries = specific_countries\n",
    "        else:\n",
    "            self.specific_countries = None\n",
    "\n",
    "    def create_edges(self):\n",
    "        for connection in self.data:\n",
    "            for pair in itertools.combinations(connection, 2):\n",
    "                if self.specific_countries:  # If specific countries have been specified\n",
    "                    if any(country in pair for country in self.specific_countries):  # Add pairs that contain any of the specific countries\n",
    "                        self.edges_list.append(pair)\n",
    "                else:  # If no specific countries have been specified, add all pairs\n",
    "                    self.edges_list.append(pair)\n",
    "        edges_df = pd.DataFrame(self.edges_list, columns=['source', 'target'])\n",
    "        edges_ds = Dataset(edges_df, ['source', 'target'])\n",
    "        return edges_ds\n",
    "\n",
    "    def country_chord_chart(self):\n",
    "        hv.extension('bokeh')\n",
    "        chord = hv.Chord(self.create_edges()).select(value=(1, None))\n",
    "        return chord.opts(\n",
    "            opts.Chord(\n",
    "                cmap='Category20',\n",
    "                edge_cmap='Category20',\n",
    "                edge_color=dim('source').str(),\n",
    "                labels='index',\n",
    "                node_color=dim('index').str(),\n",
    "                width=650,\n",
    "                height=650,\n",
    "                tools=['tap']\n",
    "            )\n",
    "        )\n"
   ],
   "metadata": {
    "collapsed": false,
    "ExecuteTime": {
     "end_time": "2023-06-04T07:55:47.149634500Z",
     "start_time": "2023-06-04T07:55:47.132679700Z"
    }
   }
  },
  {
   "cell_type": "code",
   "execution_count": 122,
   "outputs": [
    {
     "data": {
      "text/plain": "[('Ukraine', 'Slowenien'),\n ('Ukraine', 'Polen'),\n ('Ukraine', 'Schweiz'),\n ('Ukraine', 'Russland'),\n ('Slowenien', 'Russland'),\n ('Polen', 'Russland'),\n ('Schweiz', 'Russland'),\n ('Moldawien', 'Ukraine'),\n ('Moldawien', 'Russland'),\n ('USA', 'Ukraine'),\n ('USA', 'Russland'),\n ('Ukraine', 'Ungarn'),\n ('Ukraine', 'Rumänien'),\n ('Ukraine', 'Polen'),\n ('Ukraine', 'Schweiz'),\n ('Ukraine', 'Frankreich'),\n ('Ukraine', 'Russland'),\n ('Ungarn', 'Russland'),\n ('Rumänien', 'Russland'),\n ('Polen', 'Russland'),\n ('Schweiz', 'Russland'),\n ('Frankreich', 'Russland'),\n ('Russland', 'USA'),\n ('Russland', 'Schweiz'),\n ('Russland', 'Ukraine'),\n ('USA', 'Ukraine'),\n ('Schweiz', 'Ukraine'),\n ('Malta', 'Ukraine'),\n ('Malta', 'Russland'),\n ('Ukraine', 'USA'),\n ('Ukraine', 'Niederlande'),\n ('Ukraine', 'Polen'),\n ('Ukraine', 'Deutschland'),\n ('Ukraine', 'Schweiz'),\n ('Ukraine', 'Russland'),\n ('USA', 'Russland'),\n ('Niederlande', 'Russland'),\n ('Polen', 'Russland'),\n ('Deutschland', 'Russland'),\n ('Schweiz', 'Russland'),\n ('Moldawien', 'Ukraine'),\n ('Moldawien', 'Russland'),\n ('Ukraine', 'Ungarn'),\n ('Ukraine', 'Rumänien'),\n ('Ukraine', 'Polen'),\n ('Ukraine', 'Schweiz'),\n ('Ukraine', 'Russland'),\n ('Ungarn', 'Russland'),\n ('Rumänien', 'Russland'),\n ('Polen', 'Russland'),\n ('Schweiz', 'Russland'),\n ('USA', 'Russland'),\n ('China', 'Russland'),\n ('Deutschland', 'Russland'),\n ('Frankreich', 'Russland'),\n ('Russland', 'Iran'),\n ('Georgien', 'Russland'),\n ('Georgien', 'Ukraine'),\n ('Russland', 'Deutschland'),\n ('Russland', 'Ukraine'),\n ('Deutschland', 'Ukraine'),\n ('Schweiz', 'Ukraine'),\n ('USA', 'Ukraine'),\n ('USA', 'Russland'),\n ('Ukraine', 'China'),\n ('Ukraine', 'Taiwan'),\n ('Ukraine', 'Schweiz'),\n ('Ukraine', 'Russland'),\n ('China', 'Russland'),\n ('Taiwan', 'Russland'),\n ('Schweiz', 'Russland'),\n ('Schweiz', 'Ukraine'),\n ('Schweiz', 'Russland'),\n ('China', 'Russland'),\n ('Island', 'Russland'),\n ('Philippinen', 'Russland'),\n ('Deutschland', 'Russland'),\n ('Österreich', 'Russland'),\n ('Frankreich', 'Russland'),\n ('Italien', 'Russland'),\n ('Russland', 'Spanien'),\n ('China', 'Russland'),\n ('Albanien', 'Russland'),\n ('Deutschland', 'Russland'),\n ('Schweiz', 'Russland'),\n ('Israel', 'Russland'),\n ('Afghanistan', 'Russland'),\n ('Afghanistan', 'Ukraine'),\n ('Russland', 'Deutschland'),\n ('Russland', 'Ukraine'),\n ('Deutschland', 'Ukraine'),\n ('Ukraine', 'China'),\n ('Ukraine', 'Schweiz'),\n ('Russland', 'Ukraine'),\n ('Türkei', 'Ukraine'),\n ('Türkei', 'Russland'),\n ('Moldawien', 'Ukraine'),\n ('Moldawien', 'Russland'),\n ('USA', 'Ukraine'),\n ('USA', 'Russland'),\n ('Ukraine', 'Ungarn'),\n ('Ukraine', 'Rumänien'),\n ('Ukraine', 'Polen'),\n ('Ukraine', 'Schweiz'),\n ('Ukraine', 'Russland'),\n ('Ungarn', 'Russland'),\n ('Rumänien', 'Russland'),\n ('Polen', 'Russland'),\n ('Schweiz', 'Russland'),\n ('Russland', 'Ukraine'),\n ('USA', 'Ukraine'),\n ('USA', 'Russland'),\n ('Ukraine', 'Polen'),\n ('Ukraine', 'Deutschland'),\n ('Ukraine', 'Georgien'),\n ('Ukraine', 'Russland'),\n ('Polen', 'Russland'),\n ('Deutschland', 'Russland'),\n ('Georgien', 'Russland'),\n ('USA', 'Ukraine'),\n ('USA', 'Russland'),\n ('Ukraine', 'Polen'),\n ('Ukraine', 'Deutschland'),\n ('Ukraine', 'Georgien'),\n ('Ukraine', 'Russland'),\n ('Polen', 'Russland'),\n ('Deutschland', 'Russland'),\n ('Georgien', 'Russland'),\n ('Vietnam', 'Ukraine'),\n ('Vietnam', 'Russland'),\n ('Irak', 'Ukraine'),\n ('Irak', 'Russland'),\n ('Ukraine', 'Afghanistan'),\n ('Ukraine', 'Syrien'),\n ('Ukraine', 'Schweiz'),\n ('Ukraine', 'Russland'),\n ('Afghanistan', 'Russland'),\n ('Syrien', 'Russland'),\n ('Schweiz', 'Russland'),\n ('Russland', 'Schweiz'),\n ('Russland', 'Ukraine'),\n ('Schweiz', 'Ukraine'),\n ('Ukraine', 'USA'),\n ('USA', 'Ukraine'),\n ('USA', 'Russland'),\n ('Ukraine', 'China'),\n ('Ukraine', 'Syrien'),\n ('Ukraine', 'Schweiz'),\n ('Ukraine', 'Russland'),\n ('China', 'Russland'),\n ('Syrien', 'Russland'),\n ('Schweiz', 'Russland'),\n ('Schweiz', 'Ukraine'),\n ('Schweiz', 'Ukraine'),\n ('USA', 'Ukraine'),\n ('USA', 'Russland'),\n ('Ukraine', 'Weissrussland'),\n ('Ukraine', 'Polen'),\n ('Ukraine', 'Kasachstan'),\n ('Ukraine', 'Russland'),\n ('Weissrussland', 'Russland'),\n ('Polen', 'Russland'),\n ('Kasachstan', 'Russland'),\n ('Russland', 'Ukraine'),\n ('Schweden', 'Ukraine'),\n ('Schweden', 'Russland'),\n ('USA', 'Ukraine'),\n ('USA', 'Russland'),\n ('Ukraine', 'Finnland'),\n ('Ukraine', 'Russland'),\n ('Finnland', 'Russland'),\n ('Ukraine', 'China'),\n ('Ukraine', 'Russland'),\n ('Ukraine', 'USA'),\n ('China', 'Russland'),\n ('Russland', 'USA'),\n ('USA', 'Ukraine'),\n ('Norwegen', 'Ukraine'),\n ('Spanien', 'Ukraine'),\n ('Schweiz', 'Russland'),\n ('Schweiz', 'Ukraine'),\n ('Russland', 'Ukraine'),\n ('Slowakei', 'Russland'),\n ('Slowakei', 'Ukraine'),\n ('Russland', 'Ukraine'),\n ('Russland', 'Ukraine'),\n ('Seychellen', 'Ukraine'),\n ('Ukraine', 'Schweiz'),\n ('Ukraine', 'USA'),\n ('Ukraine', 'Kambodscha'),\n ('Ukraine', 'Thailand'),\n ('Ukraine', 'Nepal'),\n ('Ukraine', 'Polen'),\n ('Ukraine', 'Deutschland'),\n ('Ukraine', 'Österreich'),\n ('Ukraine', 'Argentinien'),\n ('Ukraine', 'Italien'),\n ('Ukraine', 'Indien'),\n ('Ukraine', 'Spanien'),\n ('Ukraine', 'USA'),\n ('Ukraine', 'Zypern'),\n ('Ukraine', 'Deutschland'),\n ('Ukraine', 'Schweiz'),\n ('Ukraine', 'Russland'),\n ('USA', 'Russland'),\n ('Zypern', 'Russland'),\n ('Deutschland', 'Russland'),\n ('Schweiz', 'Russland'),\n ('Schweiz', 'Russland'),\n ('Schweiz', 'Ukraine'),\n ('Russland', 'Ukraine'),\n ('Schweiz', 'Ukraine'),\n ('Deutschland', 'Ukraine'),\n ('Schweiz', 'Ukraine'),\n ('Schweiz', 'Ukraine'),\n ('Schweiz', 'Ukraine'),\n ('Schweiz', 'Ukraine'),\n ('Schweiz', 'Ukraine'),\n ('USA', 'Ukraine'),\n ('USA', 'Russland'),\n ('Ukraine', 'Schweiz'),\n ('Ukraine', 'Georgien'),\n ('Ukraine', 'Russland'),\n ('Schweiz', 'Russland'),\n ('Georgien', 'Russland'),\n ('Syrien', 'Ukraine'),\n ('Russland', 'Italien'),\n ('Russland', 'Schweiz'),\n ('Russland', 'Ukraine'),\n ('Italien', 'Ukraine'),\n ('Schweiz', 'Ukraine'),\n ('Russland', 'Italien'),\n ('Russland', 'Schweiz'),\n ('Russland', 'Ukraine'),\n ('Italien', 'Ukraine'),\n ('Schweiz', 'Ukraine')]"
     },
     "execution_count": 122,
     "metadata": {},
     "output_type": "execute_result"
    }
   ],
   "source": [
    "def contains_country(country_list, countries):\n",
    "    for country in countries:\n",
    "        if country in country_list:\n",
    "            return True\n",
    "    return False\n",
    "\n",
    "test = ChordCharts(df[df['countries'].apply(lambda x: contains_country(country_list=x, countries=['Ukraine', 'Russland']))]['countries'][:50], specific_countries=['Ukraine', 'Russland'])\n",
    "test.create_edges()\n",
    "\n",
    "test.edges_list\n",
    "#test.country_chord_chart()"
   ],
   "metadata": {
    "collapsed": false,
    "ExecuteTime": {
     "end_time": "2023-06-04T08:13:11.440857700Z",
     "start_time": "2023-06-04T08:13:11.255802900Z"
    }
   }
  }
 ],
 "metadata": {
  "kernelspec": {
   "display_name": "Python 3 (ipykernel)",
   "language": "python",
   "name": "python3"
  },
  "language_info": {
   "codemirror_mode": {
    "name": "ipython",
    "version": 3
   },
   "file_extension": ".py",
   "mimetype": "text/x-python",
   "name": "python",
   "nbconvert_exporter": "python",
   "pygments_lexer": "ipython3",
   "version": "3.9.15"
  }
 },
 "nbformat": 4,
 "nbformat_minor": 5
}
