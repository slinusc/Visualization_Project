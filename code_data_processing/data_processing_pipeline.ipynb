{
 "cells": [
  {
   "cell_type": "code",
   "execution_count": 1,
   "id": "26634e14",
   "metadata": {},
   "outputs": [],
   "source": [
    "from importlib import reload\n",
    "import pandas as pd\n",
    "import time\n",
    "import text_preprocessing as wpp\n",
    "import country_extractor as ce\n",
    "import sentiment_analyser as sa\n",
    "import topic_categorizer as tc\n",
    "import entity_subject_extractor as ese"
   ]
  },
  {
   "cell_type": "markdown",
   "id": "221d5627",
   "metadata": {},
   "source": [
    "Reading raw data"
   ]
  },
  {
   "cell_type": "code",
   "execution_count": null,
   "id": "2ed956b4",
   "metadata": {},
   "outputs": [],
   "source": [
    "data = pd.read_csv('../data/new_data_vdss.tsv.xz', sep='\\t', compression='xz')"
   ]
  },
  {
   "cell_type": "markdown",
   "id": "f86d44f8",
   "metadata": {},
   "source": [
    "Delete redundant columns"
   ]
  },
  {
   "cell_type": "code",
   "execution_count": null,
   "id": "d26c2be9",
   "metadata": {},
   "outputs": [],
   "source": [
    "data['date'] = data['pubtime'].str.extract(r'(\\d{4}-\\d{2}-\\d{2})')\n",
    "data['date'] = pd.to_datetime(data['date'])\n",
    "del data['pubtime']\n",
    "del data['medium_code']\n",
    "del data['regional']\n",
    "del data['doctype']\n",
    "del data['language']\n",
    "del data['char_count']\n",
    "del data['dateline']\n",
    "del data['subhead']\n",
    "del data['content_id']\n",
    "del data['id']\n",
    "del data['rubric']\n",
    "del data['doctype_description']"
   ]
  },
  {
   "cell_type": "markdown",
   "id": "5e28cfe1",
   "metadata": {},
   "source": [
    "Text preprocessing for article content"
   ]
  },
  {
   "cell_type": "code",
   "execution_count": null,
   "id": "20541e6e",
   "metadata": {},
   "outputs": [],
   "source": [
    "preprocessor = wpp.TextPreprocessing()\n",
    "\n",
    "start_time = time.time()\n",
    "data['content_processed'] = data['content'].apply(lambda x: preprocessor.preprocess_text(x) if isinstance(x, str) else [])\n",
    "end_time = time.time()\n",
    "\n",
    "elapsed_time = end_time - start_time\n",
    "\n",
    "del data['content']\n",
    "\n",
    "print(\"Elapsed Time: {:.2f} seconds\".format(elapsed_time))"
   ]
  },
  {
   "cell_type": "markdown",
   "id": "e0ceee79",
   "metadata": {},
   "source": [
    "Country extraction with runtime estimation"
   ]
  },
  {
   "cell_type": "code",
   "execution_count": null,
   "id": "18d30ec3",
   "metadata": {},
   "outputs": [],
   "source": [
    "extractor = ce.CountryExtractor()\n",
    "%timeit extractor.get_country(data['content'][0])"
   ]
  },
  {
   "cell_type": "markdown",
   "id": "3b063caf",
   "metadata": {},
   "source": [
    "68.1 µs ± 9.06 µs per loop (mean ± std. dev. of 7 runs, 10,000 loops each)"
   ]
  },
  {
   "cell_type": "code",
   "execution_count": null,
   "id": "bc577eed",
   "metadata": {},
   "outputs": [],
   "source": [
    "extractor = ce.CountryExtractor()\n",
    "data['countries'] = data['content_processed'].apply(lambda x: extractor.get_country(x) if isinstance(x[0], str) else [])"
   ]
  },
  {
   "cell_type": "markdown",
   "id": "36b1a04d",
   "metadata": {},
   "source": [
    "Sentiment analysis with runtime estimation"
   ]
  },
  {
   "cell_type": "code",
   "execution_count": null,
   "id": "e207c2e8",
   "metadata": {},
   "outputs": [],
   "source": [
    "reload(sa)\n",
    "sentiment_analyser = sa.SentimentAnalyser()\n",
    "%timeit sentiment_analyser.get_topic_sentiments_polarity(data['content_processed'][0])"
   ]
  },
  {
   "cell_type": "markdown",
   "id": "d9f3a0f8",
   "metadata": {},
   "source": [
    "12.8 ms ± 1.17 ms per loop (mean ± std. dev. of 7 runs, 100 loops each)"
   ]
  },
  {
   "cell_type": "code",
   "execution_count": null,
   "id": "f505708c",
   "metadata": {},
   "outputs": [],
   "source": [
    "sentiment_analyser = sa.SentimentAnalyser()\n",
    "\n",
    "start_time = time.time()\n",
    "data['sentiment'] = data['content_processed'].apply(lambda x: sentiment_analyser.get_topic_sentiments_polarity(x))\n",
    "end_time = time.time()\n",
    "\n",
    "elapsed_time = end_time - start_time\n",
    "\n",
    "print(\"Elapsed Time: {:.2f} seconds\".format(elapsed_time))\n",
    "\n",
    "data.to_csv('../data/processed_data.tsv.xz', sep='\\t', index=False, compression='xz')"
   ]
  },
  {
   "cell_type": "markdown",
   "id": "e38d04c8",
   "metadata": {},
   "source": [
    "Elapsed Time: 7932.10 seconds"
   ]
  },
  {
   "cell_type": "markdown",
   "id": "f9a46ddb",
   "metadata": {},
   "source": [
    "Subjectivity analysis with runtime estimation"
   ]
  },
  {
   "cell_type": "code",
   "execution_count": null,
   "id": "c79b6ab9",
   "metadata": {},
   "outputs": [],
   "source": [
    "reload(sa)\n",
    "sentiment_analyser = sa.SentimentAnalyser()\n",
    "%timeit sentiment_analyser.get_topic_subjectivity(data['content_processed'][0])"
   ]
  },
  {
   "cell_type": "markdown",
   "id": "11c96a78",
   "metadata": {},
   "source": [
    "16.4 ms ± 1.66 ms per loop (mean ± std. dev. of 7 runs, 100 loops each)"
   ]
  },
  {
   "cell_type": "code",
   "execution_count": null,
   "id": "88f4d548",
   "metadata": {},
   "outputs": [],
   "source": [
    "sentiment_analyser = sa.SentimentAnalyser()\n",
    "\n",
    "start_time = time.time()\n",
    "data['subjectivity'] = data['content_processed'].apply(lambda x: sentiment_analyser.get_topic_subjectivity(x))\n",
    "end_time = time.time()\n",
    "\n",
    "elapsed_time = end_time - start_time\n",
    "\n",
    "print(\"Elapsed Time: {:.2f} seconds\".format(elapsed_time))\n",
    "\n",
    "data.to_csv('../data/processed_data2.tsv.xz', sep='\\t', index=False, compression='xz')"
   ]
  },
  {
   "cell_type": "markdown",
   "id": "b72e7374",
   "metadata": {},
   "source": [
    "Elapsed Time: 9175.09 seconds"
   ]
  },
  {
   "cell_type": "markdown",
   "id": "04d73475",
   "metadata": {},
   "source": [
    "Categorize content with runtime estimation"
   ]
  },
  {
   "cell_type": "code",
   "execution_count": null,
   "id": "5997179f",
   "metadata": {},
   "outputs": [],
   "source": [
    "reload(tc)\n",
    "categorizer = tc.TopicCategorizer()\n",
    "%timeit data['content_processed'][:1].apply(lambda x: categorizer.categorize(x))"
   ]
  },
  {
   "cell_type": "markdown",
   "id": "3d183b34",
   "metadata": {},
   "source": [
    "14 ms ± 899 µs per loop (mean ± std. dev. of 7 runs, 100 loops each)"
   ]
  },
  {
   "cell_type": "code",
   "execution_count": null,
   "id": "fad88fe5",
   "metadata": {},
   "outputs": [],
   "source": [
    "categorizer = tc.TopicCategorizer()\n",
    "\n",
    "start_time = time.time()\n",
    "data['article_category'] = data['content_processed'].apply(lambda x: categorizer.categorize(x))\n",
    "end_time = time.time()\n",
    "\n",
    "elapsed_time = end_time - start_time\n",
    "\n",
    "print(\"Elapsed Time: {:.2f} seconds\".format(elapsed_time))\n",
    "\n",
    "data.to_csv('../data/processed_data5.tsv.xz', sep='\\t', index=False, compression='xz')"
   ]
  },
  {
   "cell_type": "markdown",
   "id": "43804d90",
   "metadata": {},
   "source": [
    "Elapsed Time: 6759.97 seconds"
   ]
  },
  {
   "cell_type": "markdown",
   "id": "5f62ff0a",
   "metadata": {},
   "source": [
    "Extracting entities runtime estimation"
   ]
  },
  {
   "cell_type": "code",
   "execution_count": null,
   "id": "75a1285f",
   "metadata": {},
   "outputs": [],
   "source": [
    "reload(ese)\n",
    "entity_extractor = ese.EntityAndSubjectExtractor()\n",
    "%timeit processed_data['head'][:1].apply(lambda x: entity_extractor.extract_entities(x))"
   ]
  },
  {
   "cell_type": "markdown",
   "id": "b4473fcc",
   "metadata": {},
   "source": [
    "4.85 ms ± 291 µs per loop (mean ± std. dev. of 7 runs, 100 loops each)"
   ]
  },
  {
   "cell_type": "code",
   "execution_count": null,
   "id": "47227a38",
   "metadata": {},
   "outputs": [],
   "source": [
    "entity_extractor = ese.EntityAndSubjectExtractor()\n",
    "\n",
    "start_time = time.time()\n",
    "data['entities_header'] = data['head'].apply(lambda x: entity_extractor.extract_entities(x))\n",
    "end_time = time.time()\n",
    "\n",
    "elapsed_time = end_time - start_time\n",
    "\n",
    "print(\"Elapsed Time: {:.2f} seconds\".format(elapsed_time))\n",
    "\n",
    "data.to_csv('../data/processed_data_final.tsv.xz', sep='\\t', index=False, compression='xz')"
   ]
  },
  {
   "cell_type": "markdown",
   "id": "709f5e03",
   "metadata": {},
   "source": [
    "Elapsed Time: 830.65 seconds"
   ]
  },
  {
   "cell_type": "code",
   "execution_count": null,
   "id": "f5b3a1f2",
   "metadata": {},
   "outputs": [],
   "source": [
    "translate_countries = ce.CountryExtractor()\n",
    "data['countries_en'] = data['countries'].apply(lambda x: translate_countries.country_translation(x))"
   ]
  },
  {
   "cell_type": "code",
   "execution_count": null,
   "id": "a3f636f9",
   "metadata": {},
   "outputs": [],
   "source": [
    "data.to_csv('../data/processed_data_final.tsv.xz', sep='\\t', index=False, compression='xz')"
   ]
  },
  {
   "cell_type": "markdown",
   "id": "7e35315a",
   "metadata": {},
   "source": [
    "Import processed data, using eval to convert content_processed and countries to list"
   ]
  },
  {
   "cell_type": "code",
   "execution_count": null,
   "id": "f7ef7469",
   "metadata": {},
   "outputs": [],
   "source": [
    "processed_data = pd.read_csv('../data/processed_data_final.tsv.xz', sep='\\t', compression='xz')\n",
    "processed_data['content_processed'] = processed_data['content_processed'].apply(eval)\n",
    "#proc_data['countries'] = proc_data['countries'].apply(eval)"
   ]
  },
  {
   "cell_type": "markdown",
   "id": "dd1974a4",
   "metadata": {},
   "source": []
  },
  {
   "cell_type": "code",
   "execution_count": null,
   "id": "48a41234",
   "metadata": {},
   "outputs": [],
   "source": [
    "# Aufbereitung der Liste mit Persönlichkeiten\n",
    "\n",
    "import re\n",
    "\n",
    "names = []\n",
    "with open(\"../data/persoenlichkeiten_raw.txt\", 'r', encoding='UTF-8') as file:\n",
    "    for line in file:\n",
    "        names.append(re.sub(r'^\\d+\\.\\s', '', line.strip()))\n",
    "\n",
    "names = set(names)\n",
    "names_df = pd.DataFrame(names)\n",
    "names_df.to_csv(\"../data/persoenlichkeiten.csv\")"
   ]
  },
  {
   "cell_type": "code",
   "execution_count": null,
   "id": "3e7b38bb",
   "metadata": {},
   "outputs": [],
   "source": [
    "reload(ese)\n",
    "people_extractor = ese.EntityAndSubjectExtractor()\n",
    "start_time = time.time()\n",
    "processed_data['people'] = processed_data['content_processed'].apply(people_extractor.extract_people)\n",
    "end_time = time.time()\n",
    "elapsed_time = end_time - start_time\n",
    "print(\"Elapsed Time: {:.2f} seconds\".format(elapsed_time))\n",
    "\n",
    "processed_data.to_csv('../data/processed_data_final_add_people.tsv.xz', sep='\\t', index=False, compression='xz')"
   ]
  },
  {
   "cell_type": "code",
   "execution_count": null,
   "id": "7af92235",
   "metadata": {},
   "outputs": [],
   "source": [
    "del processed_data['content_processed']\n",
    "processed_data.to_csv('../data/without_content.tsv.xz', sep='\\t', index=False, compression='xz')"
   ]
  },
  {
   "cell_type": "code",
   "execution_count": 2,
   "id": "90e946c8",
   "metadata": {
    "ExecuteTime": {
     "end_time": "2023-06-03T21:47:22.185864200Z",
     "start_time": "2023-06-03T21:47:19.779434500Z"
    }
   },
   "outputs": [],
   "source": [
    "df = pd.read_csv('../data/without_content.tsv.xz', sep='\\t', compression='xz')\n",
    "df['countries'] = df['countries'].apply(eval)"
   ]
  },
  {
   "cell_type": "code",
   "execution_count": 4,
   "id": "8421efbd-7a76-4cf8-bb51-a8f3955817c5",
   "metadata": {},
   "outputs": [
    {
     "data": {
      "text/html": [
       "<div>\n",
       "<style scoped>\n",
       "    .dataframe tbody tr th:only-of-type {\n",
       "        vertical-align: middle;\n",
       "    }\n",
       "\n",
       "    .dataframe tbody tr th {\n",
       "        vertical-align: top;\n",
       "    }\n",
       "\n",
       "    .dataframe thead th {\n",
       "        text-align: right;\n",
       "    }\n",
       "</style>\n",
       "<table border=\"1\" class=\"dataframe\">\n",
       "  <thead>\n",
       "    <tr style=\"text-align: right;\">\n",
       "      <th></th>\n",
       "      <th>medium_name</th>\n",
       "      <th>head</th>\n",
       "      <th>date</th>\n",
       "      <th>countries</th>\n",
       "      <th>sentiment</th>\n",
       "      <th>subjectivity</th>\n",
       "      <th>entities_header</th>\n",
       "      <th>article_category</th>\n",
       "      <th>countries_en</th>\n",
       "      <th>people</th>\n",
       "    </tr>\n",
       "  </thead>\n",
       "  <tbody>\n",
       "    <tr>\n",
       "      <th>0</th>\n",
       "      <td>blick.ch</td>\n",
       "      <td>Schweden beschliesst starke Leitzinserhöhung</td>\n",
       "      <td>2022-09-20</td>\n",
       "      <td>[Schweden]</td>\n",
       "      <td>0.700000</td>\n",
       "      <td>0.000000</td>\n",
       "      <td>['Leitzinserhöhung']</td>\n",
       "      <td>Wirtschaft</td>\n",
       "      <td>['Sweden']</td>\n",
       "      <td>[]</td>\n",
       "    </tr>\n",
       "    <tr>\n",
       "      <th>1</th>\n",
       "      <td>srf.ch</td>\n",
       "      <td>Handball-Nati: Schweizerinnen unterliegen Pole...</td>\n",
       "      <td>2022-04-24</td>\n",
       "      <td>[Ukraine, Slowenien, Polen, Schweiz, Russland]</td>\n",
       "      <td>-0.140000</td>\n",
       "      <td>0.000000</td>\n",
       "      <td>['Schweizerinn', 'Quali-Ende']</td>\n",
       "      <td>Sport</td>\n",
       "      <td>['Ukraine', 'Slovenia', 'Poland', 'Switzerland...</td>\n",
       "      <td>[]</td>\n",
       "    </tr>\n",
       "    <tr>\n",
       "      <th>2</th>\n",
       "      <td>swissinfo.ch</td>\n",
       "      <td>\"Wir befürchten, dass die Tabakinitiative die ...</td>\n",
       "      <td>2022-01-11</td>\n",
       "      <td>[Frankreich, Italien, Schweiz]</td>\n",
       "      <td>0.150000</td>\n",
       "      <td>0.075000</td>\n",
       "      <td>['Tabakinitiative', 'Tür', 'Werbeverbot']</td>\n",
       "      <td>Politik</td>\n",
       "      <td>['France', 'Italy', 'Switzerland']</td>\n",
       "      <td>[]</td>\n",
       "    </tr>\n",
       "    <tr>\n",
       "      <th>3</th>\n",
       "      <td>NZZ am Sonntag</td>\n",
       "      <td>News</td>\n",
       "      <td>2022-08-28</td>\n",
       "      <td>[]</td>\n",
       "      <td>0.000000</td>\n",
       "      <td>0.000000</td>\n",
       "      <td>['News']</td>\n",
       "      <td>Wissenschaft &amp; Technik</td>\n",
       "      <td>[]</td>\n",
       "      <td>[]</td>\n",
       "    </tr>\n",
       "    <tr>\n",
       "      <th>4</th>\n",
       "      <td>srf.ch</td>\n",
       "      <td>Wenn Wassersportler fliegen lernen</td>\n",
       "      <td>2022-08-15</td>\n",
       "      <td>[USA, Australien, Schweiz]</td>\n",
       "      <td>0.194118</td>\n",
       "      <td>0.088235</td>\n",
       "      <td>['Wassersportler']</td>\n",
       "      <td>Sport</td>\n",
       "      <td>['USA', 'Australia', 'Switzerland']</td>\n",
       "      <td>['Drake']</td>\n",
       "    </tr>\n",
       "    <tr>\n",
       "      <th>...</th>\n",
       "      <td>...</td>\n",
       "      <td>...</td>\n",
       "      <td>...</td>\n",
       "      <td>...</td>\n",
       "      <td>...</td>\n",
       "      <td>...</td>\n",
       "      <td>...</td>\n",
       "      <td>...</td>\n",
       "      <td>...</td>\n",
       "      <td>...</td>\n",
       "    </tr>\n",
       "    <tr>\n",
       "      <th>153195</th>\n",
       "      <td>Berner Zeitung</td>\n",
       "      <td>Warum Opfer von Online-Hetze oft machtlos sind</td>\n",
       "      <td>2022-11-24</td>\n",
       "      <td>[USA, Irland, Schweiz]</td>\n",
       "      <td>-0.432558</td>\n",
       "      <td>0.134884</td>\n",
       "      <td>['Opfer', 'Online-Hetze']</td>\n",
       "      <td>Politik</td>\n",
       "      <td>['USA', 'Ireland', 'Switzerland']</td>\n",
       "      <td>[]</td>\n",
       "    </tr>\n",
       "    <tr>\n",
       "      <th>153196</th>\n",
       "      <td>20 minuten</td>\n",
       "      <td>Bürocontainer in Vollbrand</td>\n",
       "      <td>2022-02-07</td>\n",
       "      <td>[]</td>\n",
       "      <td>-0.850000</td>\n",
       "      <td>0.000000</td>\n",
       "      <td>['Bürocontainer']</td>\n",
       "      <td>Regional</td>\n",
       "      <td>[]</td>\n",
       "      <td>[]</td>\n",
       "    </tr>\n",
       "    <tr>\n",
       "      <th>153197</th>\n",
       "      <td>blick.ch</td>\n",
       "      <td>Bundespräsident Cassis zu Besuch in Wien</td>\n",
       "      <td>2022-01-13</td>\n",
       "      <td>[Ukraine, USA, Schweiz, Österreich, Russland]</td>\n",
       "      <td>0.350000</td>\n",
       "      <td>0.000000</td>\n",
       "      <td>['Bundespräsident', 'Besuch']</td>\n",
       "      <td>Politik</td>\n",
       "      <td>['Ukraine', 'USA', 'Switzerland', 'Austria', '...</td>\n",
       "      <td>['Ignazio Cassis']</td>\n",
       "    </tr>\n",
       "    <tr>\n",
       "      <th>153198</th>\n",
       "      <td>NZZ am Sonntag</td>\n",
       "      <td>Classe politique</td>\n",
       "      <td>2022-02-13</td>\n",
       "      <td>[Niger]</td>\n",
       "      <td>0.000000</td>\n",
       "      <td>0.000000</td>\n",
       "      <td>[]</td>\n",
       "      <td>Politik</td>\n",
       "      <td>['Niger']</td>\n",
       "      <td>['Ignazio Cassis']</td>\n",
       "    </tr>\n",
       "    <tr>\n",
       "      <th>153199</th>\n",
       "      <td>blick.ch</td>\n",
       "      <td>Mats Hummels feiert Ostern mit Cathy und Sohn ...</td>\n",
       "      <td>2022-04-18</td>\n",
       "      <td>[Österreich]</td>\n",
       "      <td>0.540000</td>\n",
       "      <td>0.000000</td>\n",
       "      <td>['Mat', 'Hummels', 'Cathy', 'Sohn', 'Ludwig']</td>\n",
       "      <td>Kultur</td>\n",
       "      <td>['Austria']</td>\n",
       "      <td>[]</td>\n",
       "    </tr>\n",
       "  </tbody>\n",
       "</table>\n",
       "<p>153200 rows × 10 columns</p>\n",
       "</div>"
      ],
      "text/plain": [
       "           medium_name                                               head   \n",
       "0             blick.ch       Schweden beschliesst starke Leitzinserhöhung  \\\n",
       "1               srf.ch  Handball-Nati: Schweizerinnen unterliegen Pole...   \n",
       "2         swissinfo.ch  \"Wir befürchten, dass die Tabakinitiative die ...   \n",
       "3       NZZ am Sonntag                                               News   \n",
       "4               srf.ch                 Wenn Wassersportler fliegen lernen   \n",
       "...                ...                                                ...   \n",
       "153195  Berner Zeitung     Warum Opfer von Online-Hetze oft machtlos sind   \n",
       "153196      20 minuten                         Bürocontainer in Vollbrand   \n",
       "153197        blick.ch           Bundespräsident Cassis zu Besuch in Wien   \n",
       "153198  NZZ am Sonntag                                   Classe politique   \n",
       "153199        blick.ch  Mats Hummels feiert Ostern mit Cathy und Sohn ...   \n",
       "\n",
       "              date                                       countries  sentiment   \n",
       "0       2022-09-20                                      [Schweden]   0.700000  \\\n",
       "1       2022-04-24  [Ukraine, Slowenien, Polen, Schweiz, Russland]  -0.140000   \n",
       "2       2022-01-11                  [Frankreich, Italien, Schweiz]   0.150000   \n",
       "3       2022-08-28                                              []   0.000000   \n",
       "4       2022-08-15                      [USA, Australien, Schweiz]   0.194118   \n",
       "...            ...                                             ...        ...   \n",
       "153195  2022-11-24                          [USA, Irland, Schweiz]  -0.432558   \n",
       "153196  2022-02-07                                              []  -0.850000   \n",
       "153197  2022-01-13   [Ukraine, USA, Schweiz, Österreich, Russland]   0.350000   \n",
       "153198  2022-02-13                                         [Niger]   0.000000   \n",
       "153199  2022-04-18                                    [Österreich]   0.540000   \n",
       "\n",
       "        subjectivity                                entities_header   \n",
       "0           0.000000                           ['Leitzinserhöhung']  \\\n",
       "1           0.000000                 ['Schweizerinn', 'Quali-Ende']   \n",
       "2           0.075000      ['Tabakinitiative', 'Tür', 'Werbeverbot']   \n",
       "3           0.000000                                       ['News']   \n",
       "4           0.088235                             ['Wassersportler']   \n",
       "...              ...                                            ...   \n",
       "153195      0.134884                      ['Opfer', 'Online-Hetze']   \n",
       "153196      0.000000                              ['Bürocontainer']   \n",
       "153197      0.000000                  ['Bundespräsident', 'Besuch']   \n",
       "153198      0.000000                                             []   \n",
       "153199      0.000000  ['Mat', 'Hummels', 'Cathy', 'Sohn', 'Ludwig']   \n",
       "\n",
       "              article_category   \n",
       "0                   Wirtschaft  \\\n",
       "1                        Sport   \n",
       "2                      Politik   \n",
       "3       Wissenschaft & Technik   \n",
       "4                        Sport   \n",
       "...                        ...   \n",
       "153195                 Politik   \n",
       "153196                Regional   \n",
       "153197                 Politik   \n",
       "153198                 Politik   \n",
       "153199                  Kultur   \n",
       "\n",
       "                                             countries_en              people  \n",
       "0                                              ['Sweden']                  []  \n",
       "1       ['Ukraine', 'Slovenia', 'Poland', 'Switzerland...                  []  \n",
       "2                      ['France', 'Italy', 'Switzerland']                  []  \n",
       "3                                                      []                  []  \n",
       "4                     ['USA', 'Australia', 'Switzerland']           ['Drake']  \n",
       "...                                                   ...                 ...  \n",
       "153195                  ['USA', 'Ireland', 'Switzerland']                  []  \n",
       "153196                                                 []                  []  \n",
       "153197  ['Ukraine', 'USA', 'Switzerland', 'Austria', '...  ['Ignazio Cassis']  \n",
       "153198                                          ['Niger']  ['Ignazio Cassis']  \n",
       "153199                                        ['Austria']                  []  \n",
       "\n",
       "[153200 rows x 10 columns]"
      ]
     },
     "execution_count": 4,
     "metadata": {},
     "output_type": "execute_result"
    }
   ],
   "source": [
    "df"
   ]
  },
  {
   "cell_type": "code",
   "execution_count": 7,
   "id": "9f80bc2e-1515-4231-ade4-53b998823b19",
   "metadata": {},
   "outputs": [
    {
     "data": {
      "image/png": "[encoded data removed]",
      "text/plain": [
       "<Figure size 1000x500 with 2 Axes>"
      ]
     },
     "metadata": {},
     "output_type": "display_data"
    }
   ],
   "source": [
    "import matplotlib.pyplot as plt\n",
    "\n",
    "# Erstellen Sie Daten zur Demonstration\n",
    "sentiment_counts = [10, 20, 30, 40]\n",
    "sentiment_labels = ['< -0.5', '< 0', '< 0.5', '>= 0.5']\n",
    "\n",
    "subjectivity_counts = [15, 25, 35, 25]\n",
    "subjectivity_labels = ['< 0.2', '>= 0.2', '', '']\n",
    "\n",
    "# Erstellen Sie eine Farbpalette\n",
    "colors = ['#ff9999','#66b3ff','#99ff99','#ffcc99']\n",
    "\n",
    "# Erstellen Sie die Plots\n",
    "fig, axs = plt.subplots(1, 2, figsize=(10, 5))\n",
    "\n",
    "axs[0].pie(sentiment_counts, labels=sentiment_labels, colors=colors, autopct='%1.1f%%', startangle=90)\n",
    "axs[0].set_title('Sentiment')\n",
    "# Erstellen Sie einen weißen Kreis in der Mitte\n",
    "centre_circle = plt.Circle((0,0),0.70,fc='white')\n",
    "fig.gca().add_artist(centre_circle)\n",
    "\n",
    "axs[1].pie(subjectivity_counts, labels=subjectivity_labels, colors=colors, autopct='%1.1f%%', startangle=90)\n",
    "axs[1].set_title('Subjectivity')\n",
    "centre_circle = plt.Circle((0,0),0.70,fc='white')\n",
    "fig.gca().add_artist(centre_circle)\n",
    "\n",
    "# Äquales Seitenverhältnis gewährleistet, dass der Kuchen kreisförmig gezogen wird\n",
    "axs[0].axis('equal')  \n",
    "axs[1].axis('equal')\n",
    "\n",
    "plt.tight_layout()\n",
    "plt.show()\n"
   ]
  }
 ],
 "metadata": {
  "kernelspec": {
   "display_name": "Python 3 (ipykernel)",
   "language": "python",
   "name": "python3"
  },
  "language_info": {
   "codemirror_mode": {
    "name": "ipython",
    "version": 3
   },
   "file_extension": ".py",
   "mimetype": "text/x-python",
   "name": "python",
   "nbconvert_exporter": "python",
   "pygments_lexer": "ipython3",
   "version": "3.9.15"
  }
 },
 "nbformat": 4,
 "nbformat_minor": 5
}
