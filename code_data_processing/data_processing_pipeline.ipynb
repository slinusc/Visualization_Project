{
 "cells": [
  {
   "cell_type": "code",
   "execution_count": null,
   "id": "26634e14",
   "metadata": {},
   "outputs": [],
   "source": [
    "from importlib import reload\n",
    "import pandas as pd\n",
    "import time\n",
    "import text_preprocessing as wpp\n",
    "import country_extractor as ce\n",
    "import sentiment_analyser as sa\n",
    "import topic_categorizer as tc\n",
    "import entity_subject_extractor as ese"
   ]
  },
  {
   "cell_type": "markdown",
   "id": "221d5627",
   "metadata": {},
   "source": [
    "Reading raw data"
   ]
  },
  {
   "cell_type": "code",
   "execution_count": null,
   "id": "2ed956b4",
   "metadata": {},
   "outputs": [],
   "source": [
    "data = pd.read_csv('../data/new_data_vdss.tsv.xz', sep='\\t', compression='xz')"
   ]
  },
  {
   "cell_type": "markdown",
   "id": "f86d44f8",
   "metadata": {},
   "source": [
    "Delete redundant columns"
   ]
  },
  {
   "cell_type": "code",
   "execution_count": null,
   "id": "d26c2be9",
   "metadata": {},
   "outputs": [],
   "source": [
    "data['date'] = data['pubtime'].str.extract(r'(\\d{4}-\\d{2}-\\d{2})')\n",
    "data['date'] = pd.to_datetime(data['date'])\n",
    "del data['pubtime']\n",
    "del data['medium_code']\n",
    "del data['regional']\n",
    "del data['doctype']\n",
    "del data['language']\n",
    "del data['char_count']\n",
    "del data['dateline']\n",
    "del data['subhead']\n",
    "del data['content_id']\n",
    "del data['id']\n",
    "del data['rubric']\n",
    "del data['doctype_description']"
   ]
  },
  {
   "cell_type": "markdown",
   "id": "5e28cfe1",
   "metadata": {},
   "source": [
    "Text preprocessing for article content"
   ]
  },
  {
   "cell_type": "code",
   "execution_count": null,
   "id": "20541e6e",
   "metadata": {},
   "outputs": [],
   "source": [
    "preprocessor = wpp.TextPreprocessing()\n",
    "\n",
    "start_time = time.time()\n",
    "data['content_processed'] = data['content'].apply(lambda x: preprocessor.preprocess_text(x) if isinstance(x, str) else [])\n",
    "end_time = time.time()\n",
    "\n",
    "elapsed_time = end_time - start_time\n",
    "\n",
    "del data['content']\n",
    "\n",
    "print(\"Elapsed Time: {:.2f} seconds\".format(elapsed_time))"
   ]
  },
  {
   "cell_type": "markdown",
   "id": "e0ceee79",
   "metadata": {},
   "source": [
    "Country extraction with runtime estimation"
   ]
  },
  {
   "cell_type": "code",
   "execution_count": null,
   "id": "18d30ec3",
   "metadata": {},
   "outputs": [],
   "source": [
    "extractor = ce.CountryExtractor()\n",
    "%timeit extractor.get_country(data['content'][0])"
   ]
  },
  {
   "cell_type": "markdown",
   "id": "3b063caf",
   "metadata": {},
   "source": [
    "68.1 µs ± 9.06 µs per loop (mean ± std. dev. of 7 runs, 10,000 loops each)"
   ]
  },
  {
   "cell_type": "code",
   "execution_count": null,
   "id": "bc577eed",
   "metadata": {},
   "outputs": [],
   "source": [
    "extractor = ce.CountryExtractor()\n",
    "data['countries'] = data['content_processed'].apply(lambda x: extractor.get_country(x) if isinstance(x[0], str) else [])"
   ]
  },
  {
   "cell_type": "markdown",
   "id": "36b1a04d",
   "metadata": {},
   "source": [
    "Sentiment analysis with runtime estimation"
   ]
  },
  {
   "cell_type": "code",
   "execution_count": null,
   "id": "e207c2e8",
   "metadata": {},
   "outputs": [],
   "source": [
    "reload(sa)\n",
    "sentiment_analyser = sa.SentimentAnalyser()\n",
    "%timeit sentiment_analyser.get_topic_sentiments_polarity(data['content_processed'][0])"
   ]
  },
  {
   "cell_type": "markdown",
   "id": "d9f3a0f8",
   "metadata": {},
   "source": [
    "12.8 ms ± 1.17 ms per loop (mean ± std. dev. of 7 runs, 100 loops each)"
   ]
  },
  {
   "cell_type": "code",
   "execution_count": null,
   "id": "f505708c",
   "metadata": {},
   "outputs": [],
   "source": [
    "sentiment_analyser = sa.SentimentAnalyser()\n",
    "\n",
    "start_time = time.time()\n",
    "data['sentiment'] = data['content_processed'].apply(lambda x: sentiment_analyser.get_topic_sentiments_polarity(x))\n",
    "end_time = time.time()\n",
    "\n",
    "elapsed_time = end_time - start_time\n",
    "\n",
    "print(\"Elapsed Time: {:.2f} seconds\".format(elapsed_time))\n",
    "\n",
    "data.to_csv('../data/processed_data.tsv.xz', sep='\\t', index=False, compression='xz')"
   ]
  },
  {
   "cell_type": "markdown",
   "id": "e38d04c8",
   "metadata": {},
   "source": [
    "Elapsed Time: 7932.10 seconds"
   ]
  },
  {
   "cell_type": "markdown",
   "id": "f9a46ddb",
   "metadata": {},
   "source": [
    "Subjectivity analysis with runtime estimation"
   ]
  },
  {
   "cell_type": "code",
   "execution_count": null,
   "id": "c79b6ab9",
   "metadata": {},
   "outputs": [],
   "source": [
    "reload(sa)\n",
    "sentiment_analyser = sa.SentimentAnalyser()\n",
    "%timeit sentiment_analyser.get_topic_subjectivity(data['content_processed'][0])"
   ]
  },
  {
   "cell_type": "markdown",
   "id": "11c96a78",
   "metadata": {},
   "source": [
    "16.4 ms ± 1.66 ms per loop (mean ± std. dev. of 7 runs, 100 loops each)"
   ]
  },
  {
   "cell_type": "code",
   "execution_count": null,
   "id": "88f4d548",
   "metadata": {},
   "outputs": [],
   "source": [
    "sentiment_analyser = sa.SentimentAnalyser()\n",
    "\n",
    "start_time = time.time()\n",
    "data['subjectivity'] = data['content_processed'].apply(lambda x: sentiment_analyser.get_topic_subjectivity(x))\n",
    "end_time = time.time()\n",
    "\n",
    "elapsed_time = end_time - start_time\n",
    "\n",
    "print(\"Elapsed Time: {:.2f} seconds\".format(elapsed_time))\n",
    "\n",
    "data.to_csv('../data/processed_data2.tsv.xz', sep='\\t', index=False, compression='xz')"
   ]
  },
  {
   "cell_type": "markdown",
   "id": "b72e7374",
   "metadata": {},
   "source": [
    "Elapsed Time: 9175.09 seconds"
   ]
  },
  {
   "cell_type": "markdown",
   "id": "04d73475",
   "metadata": {},
   "source": [
    "Categorize content with runtime estimation"
   ]
  },
  {
   "cell_type": "code",
   "execution_count": null,
   "id": "5997179f",
   "metadata": {},
   "outputs": [],
   "source": [
    "reload(tc)\n",
    "categorizer = tc.TopicCategorizer()\n",
    "%timeit data['content_processed'][:1].apply(lambda x: categorizer.categorize(x))"
   ]
  },
  {
   "cell_type": "markdown",
   "id": "3d183b34",
   "metadata": {},
   "source": [
    "14 ms ± 899 µs per loop (mean ± std. dev. of 7 runs, 100 loops each)"
   ]
  },
  {
   "cell_type": "code",
   "execution_count": null,
   "id": "fad88fe5",
   "metadata": {},
   "outputs": [],
   "source": [
    "categorizer = tc.TopicCategorizer()\n",
    "\n",
    "start_time = time.time()\n",
    "data['article_category'] = data['content_processed'].apply(lambda x: categorizer.categorize(x))\n",
    "end_time = time.time()\n",
    "\n",
    "elapsed_time = end_time - start_time\n",
    "\n",
    "print(\"Elapsed Time: {:.2f} seconds\".format(elapsed_time))\n",
    "\n",
    "data.to_csv('../data/processed_data5.tsv.xz', sep='\\t', index=False, compression='xz')"
   ]
  },
  {
   "cell_type": "markdown",
   "id": "43804d90",
   "metadata": {},
   "source": [
    "Elapsed Time: 6759.97 seconds"
   ]
  },
  {
   "cell_type": "markdown",
   "id": "5f62ff0a",
   "metadata": {},
   "source": [
    "Extracting entities runtime estimation"
   ]
  },
  {
   "cell_type": "code",
   "execution_count": null,
   "id": "75a1285f",
   "metadata": {},
   "outputs": [],
   "source": [
    "reload(ese)\n",
    "entity_extractor = ese.EntityAndSubjectExtractor()\n",
    "%timeit processed_data['head'][:1].apply(lambda x: entity_extractor.extract_entities(x))"
   ]
  },
  {
   "cell_type": "markdown",
   "id": "b4473fcc",
   "metadata": {},
   "source": [
    "4.85 ms ± 291 µs per loop (mean ± std. dev. of 7 runs, 100 loops each)"
   ]
  },
  {
   "cell_type": "code",
   "execution_count": null,
   "id": "47227a38",
   "metadata": {},
   "outputs": [],
   "source": [
    "entity_extractor = ese.EntityAndSubjectExtractor()\n",
    "\n",
    "start_time = time.time()\n",
    "data['entities_header'] = data['head'].apply(lambda x: entity_extractor.extract_entities(x))\n",
    "end_time = time.time()\n",
    "\n",
    "elapsed_time = end_time - start_time\n",
    "\n",
    "print(\"Elapsed Time: {:.2f} seconds\".format(elapsed_time))\n",
    "\n",
    "data.to_csv('../data/processed_data_final.tsv.xz', sep='\\t', index=False, compression='xz')"
   ]
  },
  {
   "cell_type": "markdown",
   "id": "709f5e03",
   "metadata": {},
   "source": [
    "Elapsed Time: 830.65 seconds"
   ]
  },
  {
   "cell_type": "code",
   "execution_count": null,
   "id": "f5b3a1f2",
   "metadata": {},
   "outputs": [],
   "source": [
    "translate_countries = ce.CountryExtractor()\n",
    "data['countries_en'] = data['countries'].apply(lambda x: translate_countries.country_translation(x))"
   ]
  },
  {
   "cell_type": "code",
   "execution_count": null,
   "id": "a3f636f9",
   "metadata": {},
   "outputs": [],
   "source": [
    "data.to_csv('../data/processed_data_final.tsv.xz', sep='\\t', index=False, compression='xz')"
   ]
  },
  {
   "cell_type": "markdown",
   "id": "7e35315a",
   "metadata": {},
   "source": [
    "Import processed data, using eval to convert content_processed and countries to list"
   ]
  },
  {
   "cell_type": "code",
   "execution_count": null,
   "id": "f7ef7469",
   "metadata": {},
   "outputs": [],
   "source": [
    "processed_data = pd.read_csv('../data/processed_data_final.tsv.xz', sep='\\t', compression='xz')\n",
    "processed_data['content_processed'] = processed_data['content_processed'].apply(eval)\n",
    "#proc_data['countries'] = proc_data['countries'].apply(eval)"
   ]
  },
  {
   "cell_type": "markdown",
   "id": "dd1974a4",
   "metadata": {},
   "source": []
  },
  {
   "cell_type": "code",
   "execution_count": null,
   "id": "48a41234",
   "metadata": {},
   "outputs": [],
   "source": [
    "# Aufbereitung der Liste mit Persönlichkeiten\n",
    "\n",
    "import re\n",
    "\n",
    "names = []\n",
    "with open(\"../data/persoenlichkeiten_raw.txt\", 'r', encoding='UTF-8') as file:\n",
    "    for line in file:\n",
    "        names.append(re.sub(r'^\\d+\\.\\s', '', line.strip()))\n",
    "\n",
    "names = set(names)\n",
    "names_df = pd.DataFrame(names)\n",
    "names_df.to_csv(\"../data/persoenlichkeiten.csv\")"
   ]
  },
  {
   "cell_type": "code",
   "execution_count": null,
   "id": "3e7b38bb",
   "metadata": {},
   "outputs": [],
   "source": [
    "reload(ese)\n",
    "people_extractor = ese.EntityAndSubjectExtractor()\n",
    "start_time = time.time()\n",
    "processed_data['people'] = processed_data['content_processed'].apply(people_extractor.extract_people)\n",
    "end_time = time.time()\n",
    "elapsed_time = end_time - start_time\n",
    "print(\"Elapsed Time: {:.2f} seconds\".format(elapsed_time))\n",
    "\n",
    "processed_data.to_csv('../data/processed_data_final_add_people.tsv.xz', sep='\\t', index=False, compression='xz')"
   ]
  },
  {
   "cell_type": "code",
   "execution_count": null,
   "id": "7af92235",
   "metadata": {},
   "outputs": [],
   "source": [
    "del processed_data['content_processed']\n",
    "processed_data.to_csv('../data/without_content.tsv.xz', sep='\\t', index=False, compression='xz')"
   ]
  },
  {
   "cell_type": "code",
   "execution_count": 32,
   "id": "90e946c8",
   "metadata": {
    "ExecuteTime": {
     "end_time": "2023-06-03T21:47:22.185864200Z",
     "start_time": "2023-06-03T21:47:19.779434500Z"
    }
   },
   "outputs": [],
   "source": [
    "df = pd.read_csv('../data/without_content.tsv.xz', sep='\\t', compression='xz')\n",
    "df['countries'] = df['countries'].apply(eval)"
   ]
  },
  {
   "cell_type": "code",
   "execution_count": null,
   "id": "c5b629d9",
   "metadata": {},
   "outputs": [],
   "source": [
    "df['entities_header'] = df['entities_header'].apply(eval)"
   ]
  },
  {
   "cell_type": "code",
   "execution_count": 45,
   "outputs": [
    {
     "data": {
      "text/plain": "           medium_name                                               head   \n8             blick.ch  EU beschliesst Gaspreisdeckel: Einigung auf Ma...  \\\n13            blick.ch  Conference League: Adam Szalai ist in Ungarn K...   \n14              srf.ch  US-Geheimdienste rechnen nicht mit schnellem K...   \n26            blick.ch             EU-Aussenbeauftragter ist optimistisch   \n28      Tages-Anzeiger               «Gut gegen Böse. So einfach ist das»   \n...                ...                                                ...   \n153121        blick.ch  Bachelor 2022: Alle Informationen zu Kandidati...   \n153137          srf.ch  Behörden sichern Basler Friedhof wegen Gedenkt...   \n153153          srf.ch  Deutschland hadert und setzt alles auf Trumpf ...   \n153170          srf.ch  Offenbar rund 200 Leichen in Keller in Mariupo...   \n153187          srf.ch  Tesla-Radbruch: «Was, wenn das auf der Autobah...   \n\n              date                                          countries   \n8       2022-12-19                                      [Deutschland]  \\\n13      2022-10-06                     [Ungarn, Italien, Deutschland]   \n14      2022-05-10  [Malta, Ukraine, USA, Niederlande, Polen, Deut...   \n26      2022-09-01  [USA, China, Deutschland, Frankreich, Russland...   \n28      2022-04-30         [Georgien, Russland, Deutschland, Ukraine]   \n...            ...                                                ...   \n153121  2022-09-13                                      [Deutschland]   \n153137  2022-05-09          [Ukraine, Russland, Deutschland, Schweiz]   \n153153  2022-07-21                                 [Deutschland, USA]   \n153170  2022-05-25  [Ukraine, Ungarn, Polen, Deutschland, Schweiz,...   \n153187  2022-06-10                               [China, Deutschland]   \n\n        sentiment  subjectivity   \n8       -0.850000      0.000000  \\\n13       0.528571      0.142857   \n14      -0.133824      0.202941   \n26       0.540000      0.000000   \n28       0.332143      0.096429   \n...           ...           ...   \n153121   0.323077      0.076923   \n153137   0.525000      0.250000   \n153153   0.083333      0.083333   \n153170   0.086364      0.100000   \n153187   0.110000      0.000000   \n\n                                        entities_header article_category   \n8       ['Gaspreisdeckel', 'Einigung', 'Markteingriff']          Politik  \\\n13                        ['Adam', 'Szalai', 'Bettler']            Sport   \n14                    ['US-Geheimdienste', 'Kriegsend']          Politik   \n26                            ['EU-Aussenbeauftragter']          Politik   \n28                                             ['böse']          Politik   \n...                                                 ...              ...   \n153121        ['Bachelor', 'Information', 'Kandidatin']            Sport   \n153137             ['Behörde', 'Friedhof', 'Gedenktag']         Regional   \n153153                                      ['Mihambo']            Sport   \n153170                                       ['Leiche']          Politik   \n153187                   ['Tesla-Radbruch', 'Autobahn']       Wirtschaft   \n\n                                             countries_en   \n8                                             ['Germany']  \\\n13                        ['Hungary', 'Italy', 'Germany']   \n14      ['Malta', 'Ukraine', 'USA', 'Netherlands', 'Po...   \n26      ['USA', 'China', 'Germany', 'France', 'Russia'...   \n28            ['Georgia', 'Russia', 'Germany', 'Ukraine']   \n...                                                   ...   \n153121                                        ['Germany']   \n153137    ['Ukraine', 'Russia', 'Germany', 'Switzerland']   \n153153                                 ['Germany', 'USA']   \n153170  ['Ukraine', 'Hungary', 'Poland', 'Germany', 'S...   \n153187                               ['China', 'Germany']   \n\n                                                   people  \n8                                                      []  \n13                                                     []  \n14      ['Emmanuel Macron', 'Andrij Jermak', 'Olaf Sch...  \n26                          ['Joe Biden', 'Donald Trump']  \n28                                                     []  \n...                                                   ...  \n153121                                                 []  \n153137                                                 []  \n153153                                                 []  \n153170  ['Ignazio Cassis', 'Nikolai Patruschew', 'Anto...  \n153187                                                 []  \n\n[14138 rows x 10 columns]",
      "text/html": "<div>\n<style scoped>\n    .dataframe tbody tr th:only-of-type {\n        vertical-align: middle;\n    }\n\n    .dataframe tbody tr th {\n        vertical-align: top;\n    }\n\n    .dataframe thead th {\n        text-align: right;\n    }\n</style>\n<table border=\"1\" class=\"dataframe\">\n  <thead>\n    <tr style=\"text-align: right;\">\n      <th></th>\n      <th>medium_name</th>\n      <th>head</th>\n      <th>date</th>\n      <th>countries</th>\n      <th>sentiment</th>\n      <th>subjectivity</th>\n      <th>entities_header</th>\n      <th>article_category</th>\n      <th>countries_en</th>\n      <th>people</th>\n    </tr>\n  </thead>\n  <tbody>\n    <tr>\n      <th>8</th>\n      <td>blick.ch</td>\n      <td>EU beschliesst Gaspreisdeckel: Einigung auf Ma...</td>\n      <td>2022-12-19</td>\n      <td>[Deutschland]</td>\n      <td>-0.850000</td>\n      <td>0.000000</td>\n      <td>['Gaspreisdeckel', 'Einigung', 'Markteingriff']</td>\n      <td>Politik</td>\n      <td>['Germany']</td>\n      <td>[]</td>\n    </tr>\n    <tr>\n      <th>13</th>\n      <td>blick.ch</td>\n      <td>Conference League: Adam Szalai ist in Ungarn K...</td>\n      <td>2022-10-06</td>\n      <td>[Ungarn, Italien, Deutschland]</td>\n      <td>0.528571</td>\n      <td>0.142857</td>\n      <td>['Adam', 'Szalai', 'Bettler']</td>\n      <td>Sport</td>\n      <td>['Hungary', 'Italy', 'Germany']</td>\n      <td>[]</td>\n    </tr>\n    <tr>\n      <th>14</th>\n      <td>srf.ch</td>\n      <td>US-Geheimdienste rechnen nicht mit schnellem K...</td>\n      <td>2022-05-10</td>\n      <td>[Malta, Ukraine, USA, Niederlande, Polen, Deut...</td>\n      <td>-0.133824</td>\n      <td>0.202941</td>\n      <td>['US-Geheimdienste', 'Kriegsend']</td>\n      <td>Politik</td>\n      <td>['Malta', 'Ukraine', 'USA', 'Netherlands', 'Po...</td>\n      <td>['Emmanuel Macron', 'Andrij Jermak', 'Olaf Sch...</td>\n    </tr>\n    <tr>\n      <th>26</th>\n      <td>blick.ch</td>\n      <td>EU-Aussenbeauftragter ist optimistisch</td>\n      <td>2022-09-01</td>\n      <td>[USA, China, Deutschland, Frankreich, Russland...</td>\n      <td>0.540000</td>\n      <td>0.000000</td>\n      <td>['EU-Aussenbeauftragter']</td>\n      <td>Politik</td>\n      <td>['USA', 'China', 'Germany', 'France', 'Russia'...</td>\n      <td>['Joe Biden', 'Donald Trump']</td>\n    </tr>\n    <tr>\n      <th>28</th>\n      <td>Tages-Anzeiger</td>\n      <td>«Gut gegen Böse. So einfach ist das»</td>\n      <td>2022-04-30</td>\n      <td>[Georgien, Russland, Deutschland, Ukraine]</td>\n      <td>0.332143</td>\n      <td>0.096429</td>\n      <td>['böse']</td>\n      <td>Politik</td>\n      <td>['Georgia', 'Russia', 'Germany', 'Ukraine']</td>\n      <td>[]</td>\n    </tr>\n    <tr>\n      <th>...</th>\n      <td>...</td>\n      <td>...</td>\n      <td>...</td>\n      <td>...</td>\n      <td>...</td>\n      <td>...</td>\n      <td>...</td>\n      <td>...</td>\n      <td>...</td>\n      <td>...</td>\n    </tr>\n    <tr>\n      <th>153121</th>\n      <td>blick.ch</td>\n      <td>Bachelor 2022: Alle Informationen zu Kandidati...</td>\n      <td>2022-09-13</td>\n      <td>[Deutschland]</td>\n      <td>0.323077</td>\n      <td>0.076923</td>\n      <td>['Bachelor', 'Information', 'Kandidatin']</td>\n      <td>Sport</td>\n      <td>['Germany']</td>\n      <td>[]</td>\n    </tr>\n    <tr>\n      <th>153137</th>\n      <td>srf.ch</td>\n      <td>Behörden sichern Basler Friedhof wegen Gedenkt...</td>\n      <td>2022-05-09</td>\n      <td>[Ukraine, Russland, Deutschland, Schweiz]</td>\n      <td>0.525000</td>\n      <td>0.250000</td>\n      <td>['Behörde', 'Friedhof', 'Gedenktag']</td>\n      <td>Regional</td>\n      <td>['Ukraine', 'Russia', 'Germany', 'Switzerland']</td>\n      <td>[]</td>\n    </tr>\n    <tr>\n      <th>153153</th>\n      <td>srf.ch</td>\n      <td>Deutschland hadert und setzt alles auf Trumpf ...</td>\n      <td>2022-07-21</td>\n      <td>[Deutschland, USA]</td>\n      <td>0.083333</td>\n      <td>0.083333</td>\n      <td>['Mihambo']</td>\n      <td>Sport</td>\n      <td>['Germany', 'USA']</td>\n      <td>[]</td>\n    </tr>\n    <tr>\n      <th>153170</th>\n      <td>srf.ch</td>\n      <td>Offenbar rund 200 Leichen in Keller in Mariupo...</td>\n      <td>2022-05-25</td>\n      <td>[Ukraine, Ungarn, Polen, Deutschland, Schweiz,...</td>\n      <td>0.086364</td>\n      <td>0.100000</td>\n      <td>['Leiche']</td>\n      <td>Politik</td>\n      <td>['Ukraine', 'Hungary', 'Poland', 'Germany', 'S...</td>\n      <td>['Ignazio Cassis', 'Nikolai Patruschew', 'Anto...</td>\n    </tr>\n    <tr>\n      <th>153187</th>\n      <td>srf.ch</td>\n      <td>Tesla-Radbruch: «Was, wenn das auf der Autobah...</td>\n      <td>2022-06-10</td>\n      <td>[China, Deutschland]</td>\n      <td>0.110000</td>\n      <td>0.000000</td>\n      <td>['Tesla-Radbruch', 'Autobahn']</td>\n      <td>Wirtschaft</td>\n      <td>['China', 'Germany']</td>\n      <td>[]</td>\n    </tr>\n  </tbody>\n</table>\n<p>14138 rows × 10 columns</p>\n</div>"
     },
     "execution_count": 45,
     "metadata": {},
     "output_type": "execute_result"
    }
   ],
   "source": [
    "def contains_country(country_list, country='Deutschland'):\n",
    "    if country in country_list:\n",
    "        return True\n",
    "    else:\n",
    "        return False\n",
    "\n",
    "df[df['countries'].apply(contains_country)]"
   ],
   "metadata": {
    "collapsed": false,
    "ExecuteTime": {
     "end_time": "2023-06-03T22:02:31.109369800Z",
     "start_time": "2023-06-03T22:02:30.998050500Z"
    }
   }
  }
 ],
 "metadata": {
  "kernelspec": {
   "display_name": "Python 3 (ipykernel)",
   "language": "python",
   "name": "python3"
  },
  "language_info": {
   "codemirror_mode": {
    "name": "ipython",
    "version": 3
   },
   "file_extension": ".py",
   "mimetype": "text/x-python",
   "name": "python",
   "nbconvert_exporter": "python",
   "pygments_lexer": "ipython3",
   "version": "3.9.15"
  }
 },
 "nbformat": 4,
 "nbformat_minor": 5
}
